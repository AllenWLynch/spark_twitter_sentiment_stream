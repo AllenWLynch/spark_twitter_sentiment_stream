{
 "cells": [
  {
   "cell_type": "code",
   "execution_count": 1,
   "metadata": {},
   "outputs": [],
   "source": [
    "import pandas as pd\n",
    "import numpy as np\n",
    "import os\n",
    "import config"
   ]
  },
  {
   "cell_type": "code",
   "execution_count": 40,
   "metadata": {},
   "outputs": [
    {
     "name": "stdout",
     "output_type": "stream",
     "text": [
      "Emoji_Sentiment_Data_v1.0.csv\n",
      "second_source\n",
      "training.csv\n",
      "validation.csv\n"
     ]
    }
   ],
   "source": [
    "!ls $config.DATA_DIR"
   ]
  },
  {
   "cell_type": "code",
   "execution_count": 117,
   "metadata": {},
   "outputs": [],
   "source": [
    "sentiment140 = pd.read_csv(os.path.join(config.DATA_DIR, 'training.csv'), encoding = 'ISO-8859-1', header = None)\n",
    "df = sentiment140.iloc[:,[0,5]]\n",
    "df = df.rename(columns = {0 : 'label', 5 : 'text'})\n",
    "df['label'] = (df.label != 0).astype(np.int32)\n",
    "\n",
    "kaggle = pd.read_csv(os.path.join(config.DATA_DIR, 'second_source', 'train.csv'), encoding = 'ISO-8859-1')\n",
    "\n",
    "kaggle = kaggle[['Sentiment','SentimentText']].rename(columns = {'Sentiment' : 'label', 'SentimentText' : 'text'})\n",
    "\n",
    "df = df.append(kaggle)"
   ]
  },
  {
   "cell_type": "code",
   "execution_count": 118,
   "metadata": {},
   "outputs": [],
   "source": [
    "emoji_stats = pd.read_csv(os.path.join(config.DATA_DIR, 'Emoji_Sentiment_Data_v1.0.csv'))\n",
    "\n",
    "TOTAL_TWEETS = 1643735\n",
    "\n",
    "emoji_stats['p_emoji'] = emoji_stats['Occurrences']/TOTAL_TWEETS\n",
    "\n",
    "emoji_stats['p_pos'] = emoji_stats['Positive'] / emoji_stats['Occurrences']\n",
    "emoji_stats['p_neg'] = emoji_stats['Negative'] / emoji_stats['Occurrences']\n",
    "\n",
    "emoji_stats['p_e|pos'] = emoji_stats['p_pos'] * emoji_stats['p_emoji'] / p_pos\n",
    "emoji_stats['p_e|neg'] = emoji_stats['p_neg'] * emoji_stats['p_emoji'] / p_neg\n",
    "\n",
    "p_pos = 614003/TOTAL_TWEETS\n",
    "p_neg = 422457/TOTAL_TWEETS"
   ]
  },
  {
   "cell_type": "code",
   "execution_count": 119,
   "metadata": {},
   "outputs": [
    {
     "name": "stdout",
     "output_type": "stream",
     "text": [
      "Step:  96815 108\n",
      "Done\n"
     ]
    }
   ],
   "source": [
    "emojified_df = df.copy()\n",
    "\n",
    "for i, row in enumerate(emoji_stats.iterrows()):\n",
    "    row = row[1]\n",
    "    emojified_df['rand'] = np.random.rand(len(emojified_df))\n",
    "    mask = emojified_df.label * row['p_e|pos'] + (1 - emojified_df.label) * row['p_e|neg'] >= emojified_df.rand\n",
    "    emojified_df.loc[mask,'text'] += ' ' + row.Emoji\n",
    "    print('\\rStep: ', i, end = '')\n",
    "print('\\nDone')"
   ]
  },
  {
   "cell_type": "code",
   "execution_count": 124,
   "metadata": {},
   "outputs": [],
   "source": [
    "emojified_df['text'] = emojified_df['text'].str.strip()"
   ]
  },
  {
   "cell_type": "code",
   "execution_count": 127,
   "metadata": {},
   "outputs": [],
   "source": [
    "msk = np.random.rand(len(emojified_df)) < 0.99\n",
    "train = emojified_df[msk]\n",
    "test = emojified_df[~msk]"
   ]
  },
  {
   "cell_type": "code",
   "execution_count": 130,
   "metadata": {},
   "outputs": [],
   "source": [
    "train.to_csv(os.path.join(config.DATA_DIR, 'emojified_train.csv'), index = False)\n",
    "test.to_csv(os.path.join(config.DATA_DIR, 'emojified_test.csv'), index = False)"
   ]
  },
  {
   "cell_type": "code",
   "execution_count": null,
   "metadata": {},
   "outputs": [],
   "source": []
  }
 ],
 "metadata": {
  "kernelspec": {
   "display_name": "sparkapp",
   "language": "python",
   "name": "sparkapp"
  },
  "language_info": {
   "codemirror_mode": {
    "name": "ipython",
    "version": 3
   },
   "file_extension": ".py",
   "mimetype": "text/x-python",
   "name": "python",
   "nbconvert_exporter": "python",
   "pygments_lexer": "ipython3",
   "version": "3.6.10"
  }
 },
 "nbformat": 4,
 "nbformat_minor": 4
}
