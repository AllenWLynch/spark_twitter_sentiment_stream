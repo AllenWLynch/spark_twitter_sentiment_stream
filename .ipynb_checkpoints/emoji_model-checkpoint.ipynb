{
 "cells": [
  {
   "cell_type": "code",
   "execution_count": 47,
   "metadata": {},
   "outputs": [],
   "source": [
    "import findspark\n",
    "findspark.init()\n",
    "\n",
    "import pyspark\n",
    "\n",
    "from pyspark.sql import SparkSession\n",
    "from pyspark.sql import *\n",
    "import pyspark.sql.types as T\n",
    "import pyspark.sql.functions as F\n",
    "from pyspark import ml\n",
    "from nltk.tokenize import TweetTokenizer\n",
    "import config\n",
    "import os\n",
    "from itertools import product\n",
    "import plotly.express as px\n",
    "import numpy as np\n",
    "import pandas as pd\n",
    "import re\n",
    "from custom_transformer import EmojiExtractor\n",
    "\n",
    "spark = SparkSession.builder.appName(\"Train NB\")\\\n",
    "    .config(\"spark.executor.memory\",\"4g\")\\\n",
    "    .config(\"spark.driver.memory\",\"5g\")\\\n",
    "    .master('local[12]')\\\n",
    "    .getOrCreate()"
   ]
  },
  {
   "cell_type": "code",
   "execution_count": 105,
   "metadata": {},
   "outputs": [],
   "source": [
    "sentiment_model = ml.PipelineModel.load(config.MODEL_NAME)"
   ]
  },
  {
   "cell_type": "code",
   "execution_count": 108,
   "metadata": {},
   "outputs": [],
   "source": [
    "examples_filename = r'D:\\datasets\\chatbot_data\\sample.csv'\n",
    "test_filename = r'D:\\datasets\\twitter_sentiment_data\\second_source\\train.csv'\n",
    "train_data = r'D:\\datasets\\chatbot_data\\twcs\\twcs.csv'"
   ]
  },
  {
   "cell_type": "code",
   "execution_count": 109,
   "metadata": {},
   "outputs": [],
   "source": [
    "sample = spark.read.load(train_data, format = 'csv', inferSchema = True, header = True)"
   ]
  },
  {
   "cell_type": "code",
   "execution_count": 111,
   "metadata": {},
   "outputs": [],
   "source": [
    "extractor = EmojiExtractor(inputCol = 'text', outputCol = 'emojis')\n",
    "\n",
    "counter = ml.feature.CountVectorizer(inputCol = 'emojis', outputCol = 'emoji_count', \n",
    "                                     binary = True, vocabSize = 100)\n",
    "\n",
    "emoji_pipeline = ml.Pipeline(stages = [extractor, counter])"
   ]
  },
  {
   "cell_type": "code",
   "execution_count": 113,
   "metadata": {},
   "outputs": [],
   "source": [
    "sample = extractor.transform(sample)"
   ]
  },
  {
   "cell_type": "code",
   "execution_count": 115,
   "metadata": {},
   "outputs": [
    {
     "data": {
      "text/plain": [
       "DataFrame[tweet_id: string, author_id: string, inbound: string, created_at: string, text: string, response_tweet_id: string, in_response_to_tweet_id: string, emojis: array<string>, num_emojis: int]"
      ]
     },
     "execution_count": 115,
     "metadata": {},
     "output_type": "execute_result"
    }
   ],
   "source": [
    "sample = sample.withColumn('num_emojis', F.size(F.array_distinct('emojis'))).orderBy('num_emojis', ascending = False)\n",
    "sample.persist()"
   ]
  },
  {
   "cell_type": "code",
   "execution_count": 120,
   "metadata": {},
   "outputs": [],
   "source": [
    "emoji_training_data = sample.toPandas()"
   ]
  },
  {
   "cell_type": "code",
   "execution_count": 121,
   "metadata": {},
   "outputs": [],
   "source": [
    "emoji_training_data = emoji_training_data.iloc[0:2000]"
   ]
  },
  {
   "cell_type": "code",
   "execution_count": 131,
   "metadata": {},
   "outputs": [],
   "source": [
    "emoji_training_data['label'] = 0\n",
    "df = emoji_training_data"
   ]
  },
  {
   "cell_type": "code",
   "execution_count": 133,
   "metadata": {},
   "outputs": [],
   "source": [
    "df['rand'] = np.random.rand(len(df))\n",
    "msk = df.rand < 0.8\n",
    "train = df[msk]\n",
    "test = df[~msk]"
   ]
  },
  {
   "cell_type": "code",
   "execution_count": 134,
   "metadata": {},
   "outputs": [],
   "source": [
    "train[['label','text']].to_csv('./emoji_train.csv', index = False)\n",
    "test[['label', 'text']].to_csv('./emoji_test.csv', index = False)"
   ]
  },
  {
   "cell_type": "code",
   "execution_count": 89,
   "metadata": {},
   "outputs": [],
   "source": [
    "assembler = ml.feature.VectorAssembler(inputCols = ['prediction', 'emoji_count'], outputCol = 'nb_features')\n",
    "\n",
    "full_pipeline = ml.Pipeline(stages = [trained_emoji_pipe, sentiment_model, assembler])"
   ]
  }
 ],
 "metadata": {
  "kernelspec": {
   "display_name": "sparkapp",
   "language": "python",
   "name": "sparkapp"
  },
  "language_info": {
   "codemirror_mode": {
    "name": "ipython",
    "version": 3
   },
   "file_extension": ".py",
   "mimetype": "text/x-python",
   "name": "python",
   "nbconvert_exporter": "python",
   "pygments_lexer": "ipython3",
   "version": "3.6.10"
  }
 },
 "nbformat": 4,
 "nbformat_minor": 4
}
